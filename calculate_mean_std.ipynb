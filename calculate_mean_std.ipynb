{
 "cells": [
  {
   "cell_type": "markdown",
   "source": [
    "# <font face=arial> Assignment 1 Life Expectancy</font>\n",
    "## <font face=heltevica> In this Assignment, you'll be asked to finish several tasks on Life Expeectancy data and answer several questions. (You can access this data via this [link](https://www.kaggle.com/datasets/kumarajarshi/life-expectancy-who?resource=download)).</font>\n",
    "## <font face=heltevica> Please do <font color=red>NOT</font> use external libraries except for data loading</font>"
   ],
   "metadata": {
    "collapsed": false
   }
  },
  {
   "cell_type": "markdown",
   "source": [
    "## Task 1\n",
    "### <font face=heltevica>In this task, please calculate the mean ($\\mu$) and standard deviation ($\\sigma$) of life expectance for both \"Developing Countries\" and \"Developed Countries\".</font>"
   ],
   "metadata": {
    "collapsed": false
   }
  },
  {
   "cell_type": "code",
   "execution_count": 17,
   "outputs": [],
   "source": [
    "import math\n",
    "\n",
    "import pandas as pd"
   ],
   "metadata": {
    "collapsed": false
   }
  },
  {
   "cell_type": "code",
   "execution_count": 18,
   "outputs": [],
   "source": [
    "# Import data\n",
    "df = pd.read_csv(\"data/Life Expectancy Data.csv\")\n",
    "\n",
    "# drop null values in life expectancy column\n",
    "df.dropna(subset=['Life expectancy '])\n",
    "\n",
    "# split dataframe into countries that are developing/developed\n",
    "developed = df[df['Status'] == \"Developed\"]\n",
    "developing = df[df['Status'] == \"Developing\"]\n",
    "\n",
    "# get each country and put it into a list\n",
    "list_developed = []\n",
    "list_developing = []\n",
    "\n",
    "for country in developed['Country']:\n",
    "    if country not in list_developed:\n",
    "        list_developed.append(country)\n",
    "\n",
    "for country in developing['Country']:\n",
    "    if country not in list_developing:\n",
    "        list_developing.append(country)\n",
    "\n",
    "# calculate mean life expectancy of each country\n",
    "# first create dict that will be converted back to a dataframe later\n",
    "developed_mean = []\n",
    "\n",
    "# iterate through list\n",
    "for name in list_developed:\n",
    "    # separate dataframe we are working on\n",
    "    working_df = developed[(developed['Country'] == name)]\n",
    "\n",
    "    # calculate mean\n",
    "    # get the sum\n",
    "    le_sum = 0\n",
    "\n",
    "    for le in working_df['Life expectancy ']:\n",
    "        le_sum += le\n",
    "\n",
    "    # calculate mean\n",
    "    avg = le_sum / working_df.__len__()\n",
    "\n",
    "    # add mean to list\n",
    "    developed_mean.append(avg)\n",
    "\n",
    "# put data into a temp dictionary that will be converted into a dataframe\n",
    "temp_developed = {'Country': list_developed, 'Life Expectancy Average': developed_mean}\n",
    "df_developed = pd.DataFrame(data=temp_developed)\n",
    "\n",
    "\n",
    "developing_mean = []\n",
    "# iterate through list\n",
    "for name in list_developing:\n",
    "    # separate dataframe we are working on\n",
    "    working_df = developing[(developing['Country'] == name)]\n",
    "\n",
    "    # calculate mean\n",
    "    # get the sum\n",
    "    le_sum = 0\n",
    "\n",
    "    for le in working_df['Life expectancy ']:\n",
    "        le_sum += le\n",
    "\n",
    "    # calculate mean\n",
    "    avg = le_sum / working_df.__len__()\n",
    "\n",
    "    # add mean to list\n",
    "    developing_mean.append(avg)\n",
    "\n",
    "# put data into a temp dictionary that will be converted into a dataframe\n",
    "temp_developing = {'Country': list_developing, 'Life Expectancy Average': developing_mean}\n",
    "df_developing = pd.DataFrame(data=temp_developing)\n",
    "\n",
    "# need to drop rows without data\n",
    "df_developing = df_developing.dropna()"
   ],
   "metadata": {
    "collapsed": false
   }
  },
  {
   "cell_type": "code",
   "execution_count": 19,
   "outputs": [
    {
     "name": "stdout",
     "output_type": "stream",
     "text": [
      "Mean of developed countries:  79.19785156249999\n",
      "Mean of developing countries:  67.11146523178807\n"
     ]
    }
   ],
   "source": [
    "# now that we have our two data sets we can calculate the mean and the standard deviation\n",
    "\n",
    "# calculate mean of developed countries\n",
    "developed_acc = 0\n",
    "for avg in df_developed['Life Expectancy Average']:\n",
    "    developed_acc += avg\n",
    "\n",
    "mean_of_developed = developed_acc / df_developed.__len__()\n",
    "print(\"Mean of developed countries: \", mean_of_developed)\n",
    "# calculate mean of developing countries\n",
    "acc = 0\n",
    "for avg in df_developing['Life Expectancy Average']:\n",
    "    acc += avg\n",
    "\n",
    "mean_of_developing = acc / df_developing.__len__()\n",
    "print(\"Mean of developing countries: \", mean_of_developing)"
   ],
   "metadata": {
    "collapsed": false
   }
  },
  {
   "cell_type": "code",
   "execution_count": 20,
   "outputs": [
    {
     "name": "stdout",
     "output_type": "stream",
     "text": [
      "Standard Deviation of Developed Countries:  3.172254676081262\n",
      "Standard Deviation of Developing Countries:  8.604589759954798\n"
     ]
    }
   ],
   "source": [
    "# calculate standard deviation\n",
    "# calculate variance of developed dataframe\n",
    "developed_var_list = []\n",
    "\n",
    "for num in df_developed['Life Expectancy Average']:\n",
    "    developed_var_list.append(pow(num - mean_of_developed, 2))\n",
    "\n",
    "# calculate the variance\n",
    "deved_var = 0\n",
    "for num in developed_var_list:\n",
    "    deved_var += num\n",
    "\n",
    "deved_std = math.sqrt(deved_var / developed_var_list.__len__())\n",
    "print(\"Standard Deviation of Developed Countries: \", deved_std)\n",
    "\n",
    "# calculate variance of developing dataframe\n",
    "developing_var_list = []\n",
    "\n",
    "#calculate the variance\n",
    "for num in df_developing['Life Expectancy Average']:\n",
    "    developing_var_list.append(pow(num - mean_of_developing, 2))\n",
    "\n",
    "deving_var = 0\n",
    "for num in developing_var_list:\n",
    "    deving_var += num\n",
    "\n",
    "deving_std = math.sqrt(deving_var / developing_var_list.__len__())\n",
    "print(\"Standard Deviation of Developing Countries: \", deving_std)"
   ],
   "metadata": {
    "collapsed": false
   }
  },
  {
   "cell_type": "markdown",
   "source": [
    "## Task 2\n",
    "### <font face=heltevica>In this task, you will use the results you get from above to label the data. if the target country's life expectancy is smaller than µ - σ, label this country as \"Short\";  if the target country's life expectancy is larger than µ + σ, label this country as \"Long\"; otherwise, label this country as \"Normal\". Please print the results in a txt file.</font>"
   ],
   "metadata": {
    "collapsed": false
   }
  },
  {
   "cell_type": "code",
   "execution_count": 39,
   "outputs": [
    {
     "name": "stdout",
     "output_type": "stream",
     "text": [
      "75.71605499174288\n"
     ]
    }
   ],
   "source": [
    "# calc 1 std for both developing and developed countries\n",
    "deved_std_neg = mean_of_developed - deved_std\n",
    "deved_std_pos = mean_of_developed + deved_std\n",
    "\n",
    "deving_std_neg = mean_of_developing - deving_std\n",
    "deving_std_pos = mean_of_developing + deving_std\n",
    "\n",
    "print(deving_std_pos)"
   ],
   "metadata": {
    "collapsed": false
   }
  },
  {
   "cell_type": "code",
   "execution_count": 42,
   "outputs": [
    {
     "data": {
      "text/plain": "          Country  Year      Status  Life expectancy   Adult Mortality  \\\n0     Afghanistan  2015  Developing              65.0            263.0   \n1     Afghanistan  2014  Developing              59.9            271.0   \n2     Afghanistan  2013  Developing              59.9            268.0   \n3     Afghanistan  2012  Developing              59.5            272.0   \n4     Afghanistan  2011  Developing              59.2            275.0   \n...           ...   ...         ...               ...              ...   \n2933     Zimbabwe  2004  Developing              44.3            723.0   \n2934     Zimbabwe  2003  Developing              44.5            715.0   \n2935     Zimbabwe  2002  Developing              44.8             73.0   \n2936     Zimbabwe  2001  Developing              45.3            686.0   \n2937     Zimbabwe  2000  Developing              46.0            665.0   \n\n      infant deaths  Alcohol  percentage expenditure  Hepatitis B  Measles   \\\n0                62     0.01               71.279624         65.0      1154   \n1                64     0.01               73.523582         62.0       492   \n2                66     0.01               73.219243         64.0       430   \n3                69     0.01               78.184215         67.0      2787   \n4                71     0.01                7.097109         68.0      3013   \n...             ...      ...                     ...          ...       ...   \n2933             27     4.36                0.000000         68.0        31   \n2934             26     4.06                0.000000          7.0       998   \n2935             25     4.43                0.000000         73.0       304   \n2936             25     1.72                0.000000         76.0       529   \n2937             24     1.68                0.000000         79.0      1483   \n\n      ...  Total expenditure  Diphtheria    HIV/AIDS         GDP  Population  \\\n0     ...               8.16         65.0        0.1  584.259210  33736494.0   \n1     ...               8.18         62.0        0.1  612.696514    327582.0   \n2     ...               8.13         64.0        0.1  631.744976  31731688.0   \n3     ...               8.52         67.0        0.1  669.959000   3696958.0   \n4     ...               7.87         68.0        0.1   63.537231   2978599.0   \n...   ...                ...          ...        ...         ...         ...   \n2933  ...               7.13         65.0       33.6  454.366654  12777511.0   \n2934  ...               6.52         68.0       36.7  453.351155  12633897.0   \n2935  ...               6.53         71.0       39.8   57.348340    125525.0   \n2936  ...               6.16         75.0       42.1  548.587312  12366165.0   \n2937  ...               7.10         78.0       43.5  547.358878  12222251.0   \n\n       thinness  1-19 years   thinness 5-9 years  \\\n0                      17.2                 17.3   \n1                      17.5                 17.5   \n2                      17.7                 17.7   \n3                      17.9                 18.0   \n4                      18.2                 18.2   \n...                     ...                  ...   \n2933                    9.4                  9.4   \n2934                    9.8                  9.9   \n2935                    1.2                  1.3   \n2936                    1.6                  1.7   \n2937                   11.0                 11.2   \n\n      Income composition of resources  Schooling  True Values  \n0                               0.479       10.1       Normal  \n1                               0.476       10.0       Normal  \n2                               0.470        9.9       Normal  \n3                               0.463        9.8       Normal  \n4                               0.454        9.5       Normal  \n...                               ...        ...          ...  \n2933                            0.407        9.2        Short  \n2934                            0.418        9.5        Short  \n2935                            0.427       10.0        Short  \n2936                            0.427        9.8        Short  \n2937                            0.434        9.8        Short  \n\n[2938 rows x 23 columns]",
      "text/html": "<div>\n<style scoped>\n    .dataframe tbody tr th:only-of-type {\n        vertical-align: middle;\n    }\n\n    .dataframe tbody tr th {\n        vertical-align: top;\n    }\n\n    .dataframe thead th {\n        text-align: right;\n    }\n</style>\n<table border=\"1\" class=\"dataframe\">\n  <thead>\n    <tr style=\"text-align: right;\">\n      <th></th>\n      <th>Country</th>\n      <th>Year</th>\n      <th>Status</th>\n      <th>Life expectancy</th>\n      <th>Adult Mortality</th>\n      <th>infant deaths</th>\n      <th>Alcohol</th>\n      <th>percentage expenditure</th>\n      <th>Hepatitis B</th>\n      <th>Measles</th>\n      <th>...</th>\n      <th>Total expenditure</th>\n      <th>Diphtheria</th>\n      <th>HIV/AIDS</th>\n      <th>GDP</th>\n      <th>Population</th>\n      <th>thinness  1-19 years</th>\n      <th>thinness 5-9 years</th>\n      <th>Income composition of resources</th>\n      <th>Schooling</th>\n      <th>True Values</th>\n    </tr>\n  </thead>\n  <tbody>\n    <tr>\n      <th>0</th>\n      <td>Afghanistan</td>\n      <td>2015</td>\n      <td>Developing</td>\n      <td>65.0</td>\n      <td>263.0</td>\n      <td>62</td>\n      <td>0.01</td>\n      <td>71.279624</td>\n      <td>65.0</td>\n      <td>1154</td>\n      <td>...</td>\n      <td>8.16</td>\n      <td>65.0</td>\n      <td>0.1</td>\n      <td>584.259210</td>\n      <td>33736494.0</td>\n      <td>17.2</td>\n      <td>17.3</td>\n      <td>0.479</td>\n      <td>10.1</td>\n      <td>Normal</td>\n    </tr>\n    <tr>\n      <th>1</th>\n      <td>Afghanistan</td>\n      <td>2014</td>\n      <td>Developing</td>\n      <td>59.9</td>\n      <td>271.0</td>\n      <td>64</td>\n      <td>0.01</td>\n      <td>73.523582</td>\n      <td>62.0</td>\n      <td>492</td>\n      <td>...</td>\n      <td>8.18</td>\n      <td>62.0</td>\n      <td>0.1</td>\n      <td>612.696514</td>\n      <td>327582.0</td>\n      <td>17.5</td>\n      <td>17.5</td>\n      <td>0.476</td>\n      <td>10.0</td>\n      <td>Normal</td>\n    </tr>\n    <tr>\n      <th>2</th>\n      <td>Afghanistan</td>\n      <td>2013</td>\n      <td>Developing</td>\n      <td>59.9</td>\n      <td>268.0</td>\n      <td>66</td>\n      <td>0.01</td>\n      <td>73.219243</td>\n      <td>64.0</td>\n      <td>430</td>\n      <td>...</td>\n      <td>8.13</td>\n      <td>64.0</td>\n      <td>0.1</td>\n      <td>631.744976</td>\n      <td>31731688.0</td>\n      <td>17.7</td>\n      <td>17.7</td>\n      <td>0.470</td>\n      <td>9.9</td>\n      <td>Normal</td>\n    </tr>\n    <tr>\n      <th>3</th>\n      <td>Afghanistan</td>\n      <td>2012</td>\n      <td>Developing</td>\n      <td>59.5</td>\n      <td>272.0</td>\n      <td>69</td>\n      <td>0.01</td>\n      <td>78.184215</td>\n      <td>67.0</td>\n      <td>2787</td>\n      <td>...</td>\n      <td>8.52</td>\n      <td>67.0</td>\n      <td>0.1</td>\n      <td>669.959000</td>\n      <td>3696958.0</td>\n      <td>17.9</td>\n      <td>18.0</td>\n      <td>0.463</td>\n      <td>9.8</td>\n      <td>Normal</td>\n    </tr>\n    <tr>\n      <th>4</th>\n      <td>Afghanistan</td>\n      <td>2011</td>\n      <td>Developing</td>\n      <td>59.2</td>\n      <td>275.0</td>\n      <td>71</td>\n      <td>0.01</td>\n      <td>7.097109</td>\n      <td>68.0</td>\n      <td>3013</td>\n      <td>...</td>\n      <td>7.87</td>\n      <td>68.0</td>\n      <td>0.1</td>\n      <td>63.537231</td>\n      <td>2978599.0</td>\n      <td>18.2</td>\n      <td>18.2</td>\n      <td>0.454</td>\n      <td>9.5</td>\n      <td>Normal</td>\n    </tr>\n    <tr>\n      <th>...</th>\n      <td>...</td>\n      <td>...</td>\n      <td>...</td>\n      <td>...</td>\n      <td>...</td>\n      <td>...</td>\n      <td>...</td>\n      <td>...</td>\n      <td>...</td>\n      <td>...</td>\n      <td>...</td>\n      <td>...</td>\n      <td>...</td>\n      <td>...</td>\n      <td>...</td>\n      <td>...</td>\n      <td>...</td>\n      <td>...</td>\n      <td>...</td>\n      <td>...</td>\n      <td>...</td>\n    </tr>\n    <tr>\n      <th>2933</th>\n      <td>Zimbabwe</td>\n      <td>2004</td>\n      <td>Developing</td>\n      <td>44.3</td>\n      <td>723.0</td>\n      <td>27</td>\n      <td>4.36</td>\n      <td>0.000000</td>\n      <td>68.0</td>\n      <td>31</td>\n      <td>...</td>\n      <td>7.13</td>\n      <td>65.0</td>\n      <td>33.6</td>\n      <td>454.366654</td>\n      <td>12777511.0</td>\n      <td>9.4</td>\n      <td>9.4</td>\n      <td>0.407</td>\n      <td>9.2</td>\n      <td>Short</td>\n    </tr>\n    <tr>\n      <th>2934</th>\n      <td>Zimbabwe</td>\n      <td>2003</td>\n      <td>Developing</td>\n      <td>44.5</td>\n      <td>715.0</td>\n      <td>26</td>\n      <td>4.06</td>\n      <td>0.000000</td>\n      <td>7.0</td>\n      <td>998</td>\n      <td>...</td>\n      <td>6.52</td>\n      <td>68.0</td>\n      <td>36.7</td>\n      <td>453.351155</td>\n      <td>12633897.0</td>\n      <td>9.8</td>\n      <td>9.9</td>\n      <td>0.418</td>\n      <td>9.5</td>\n      <td>Short</td>\n    </tr>\n    <tr>\n      <th>2935</th>\n      <td>Zimbabwe</td>\n      <td>2002</td>\n      <td>Developing</td>\n      <td>44.8</td>\n      <td>73.0</td>\n      <td>25</td>\n      <td>4.43</td>\n      <td>0.000000</td>\n      <td>73.0</td>\n      <td>304</td>\n      <td>...</td>\n      <td>6.53</td>\n      <td>71.0</td>\n      <td>39.8</td>\n      <td>57.348340</td>\n      <td>125525.0</td>\n      <td>1.2</td>\n      <td>1.3</td>\n      <td>0.427</td>\n      <td>10.0</td>\n      <td>Short</td>\n    </tr>\n    <tr>\n      <th>2936</th>\n      <td>Zimbabwe</td>\n      <td>2001</td>\n      <td>Developing</td>\n      <td>45.3</td>\n      <td>686.0</td>\n      <td>25</td>\n      <td>1.72</td>\n      <td>0.000000</td>\n      <td>76.0</td>\n      <td>529</td>\n      <td>...</td>\n      <td>6.16</td>\n      <td>75.0</td>\n      <td>42.1</td>\n      <td>548.587312</td>\n      <td>12366165.0</td>\n      <td>1.6</td>\n      <td>1.7</td>\n      <td>0.427</td>\n      <td>9.8</td>\n      <td>Short</td>\n    </tr>\n    <tr>\n      <th>2937</th>\n      <td>Zimbabwe</td>\n      <td>2000</td>\n      <td>Developing</td>\n      <td>46.0</td>\n      <td>665.0</td>\n      <td>24</td>\n      <td>1.68</td>\n      <td>0.000000</td>\n      <td>79.0</td>\n      <td>1483</td>\n      <td>...</td>\n      <td>7.10</td>\n      <td>78.0</td>\n      <td>43.5</td>\n      <td>547.358878</td>\n      <td>12222251.0</td>\n      <td>11.0</td>\n      <td>11.2</td>\n      <td>0.434</td>\n      <td>9.8</td>\n      <td>Short</td>\n    </tr>\n  </tbody>\n</table>\n<p>2938 rows × 23 columns</p>\n</div>"
     },
     "execution_count": 42,
     "metadata": {},
     "output_type": "execute_result"
    }
   ],
   "source": [
    "# make a list to hold all the short, long, normal values\n",
    "true_values = []\n",
    "\n",
    "for status, le in zip(df['Status'], df['Life expectancy ']):\n",
    "    if status == \"Developing\":\n",
    "        if le < deving_std_neg:\n",
    "            true_values.append(\"Short\")\n",
    "        elif le > deving_std_pos:\n",
    "            true_values.append(\"Long\")\n",
    "        else:\n",
    "            true_values.append(\"Normal\")\n",
    "    else:\n",
    "        if le < deved_std_neg:\n",
    "            true_values.append(\"Short\")\n",
    "        elif le > deved_std_pos:\n",
    "            true_values.append(\"Long\")\n",
    "        else:\n",
    "            true_values.append(\"Normal\")\n",
    "\n",
    "df['True Values'] = true_values\n",
    "df"
   ],
   "metadata": {
    "collapsed": false
   }
  },
  {
   "cell_type": "markdown",
   "source": [
    "# Task 4\n",
    "## <font face=heltevica>Here are some results generated by a random machine learning model, can you give the precision, recall and F1 score based the labels(Groundtruth) you created in Task 2?</font>"
   ],
   "metadata": {
    "collapsed": false
   }
  },
  {
   "cell_type": "code",
   "execution_count": 23,
   "outputs": [
    {
     "name": "stdout",
     "output_type": "stream",
     "text": [
      "['Oman', 'Tunisia', 'Iceland', 'Togo', 'Togo', 'Cuba', 'Argentina', 'Rwanda', 'Republic of Korea', 'Czechia', 'Micronesia (Federated States of)', 'Bhutan', 'Iceland']\n",
      "['Oman', 'Turkey', 'Mexico', 'Mongolia', 'Syrian Arab Republic', 'Somalia', 'Uruguay', 'Finland', 'Viet Nam', 'Angola', 'Ethiopia', 'Luxembourg', 'Gambia', 'Mali', 'France', 'Estonia', 'Malaysia', 'Namibia']\n",
      "['Togo', 'Finland', 'Burundi', 'Colombia', 'Denmark', 'Comoros', 'Yemen', 'Iceland', 'Venezuela (Bolivarian Republic of)', 'Cook Islands', 'Papua New Guinea', 'Nigeria', 'Malta', 'Ethiopia', 'Suriname', 'Belize', 'Azerbaijan', 'Guyana', 'Zambia']\n"
     ]
    }
   ],
   "source": [
    "# read the prediction CSV\n",
    "sample_df = pd.read_csv('data/sample.csv', index_col=0)\n",
    "\n",
    "# only concerned about the prediction, drop all other rows except country\n",
    "sample_df = sample_df[['Country','Prediction']]\n",
    "\n",
    "# put all the predicted countries into a list depending on their predicted label\n",
    "pred_short = []\n",
    "pred_normal = []\n",
    "pred_long = []\n",
    "\n",
    "for (country, le) in zip(sample_df['Country'], sample_df['Prediction']):\n",
    "    if le == \"Short\":\n",
    "        pred_short.append(country)\n",
    "    elif le == \"Normal\":\n",
    "        pred_normal.append(country)\n",
    "    else:\n",
    "        pred_long.append(country)\n",
    "\n",
    "print(pred_short)\n",
    "print(pred_normal)\n",
    "print(pred_long)"
   ],
   "metadata": {
    "collapsed": false
   }
  },
  {
   "cell_type": "code",
   "execution_count": 29,
   "outputs": [
    {
     "name": "stdout",
     "output_type": "stream",
     "text": [
      "   Country  Life Expectancy Average True Label\n",
      "6  Czechia                 76.76875     Normal\n",
      "    Country  Life Expectancy Average True Label\n",
      "10  Iceland                 82.44375       Long\n",
      "     Country  Life Expectancy Average True Label\n",
      "5  Argentina                 75.15625       Long\n",
      "   Country  Life Expectancy Average True Label\n",
      "15  Bhutan                  66.1625       Long\n",
      "   Country  Life Expectancy Average True Label\n",
      "37    Cuba                   77.975       Long\n",
      "                             Country  Life Expectancy Average True Label\n",
      "91  Micronesia (Federated States of)                     68.2       Long\n",
      "    Country  Life Expectancy Average True Label\n",
      "105    Oman                 74.84375       Long\n",
      "               Country  Life Expectancy Average True Label\n",
      "114  Republic of Korea                  80.4875       Long\n",
      "    Country  Life Expectancy Average True Label\n",
      "117  Rwanda                  59.3125       Long\n",
      "    Country  Life Expectancy Average True Label\n",
      "142    Togo                  56.6625      Short\n",
      "     Country  Life Expectancy Average True Label\n",
      "145  Tunisia                 74.35625       Long\n"
     ]
    }
   ],
   "source": [
    "# now with our lists separated we need to do three for loops generating all true positives + false negatives\n",
    "\n",
    "row = df.loc[df['Country'].isin(pred_short)]\n",
    "\n",
    "# iterate through each row within the true label dataframe and each predicted\n",
    "\n",
    "# if it predicts short and the country is not short it's a false positive\n",
    "# if it predicts short and the country is short it's a true positive\n",
    "# if it predicts short and the country is long\n",
    "#\n",
    "\n",
    "\n",
    "\n",
    "for country in row['Country']:\n",
    "    find = row.loc[row['Country'] == country]\n",
    "    if find['True Label'] != 'Short':\n",
    "\n",
    "\n",
    "\n"
   ],
   "metadata": {
    "collapsed": false
   }
  }
 ],
 "metadata": {
  "kernelspec": {
   "display_name": "Python 3",
   "language": "python",
   "name": "python3"
  },
  "language_info": {
   "codemirror_mode": {
    "name": "ipython",
    "version": 2
   },
   "file_extension": ".py",
   "mimetype": "text/x-python",
   "name": "python",
   "nbconvert_exporter": "python",
   "pygments_lexer": "ipython2",
   "version": "2.7.6"
  }
 },
 "nbformat": 4,
 "nbformat_minor": 0
}
