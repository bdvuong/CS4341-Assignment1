{
 "cells": [
  {
   "cell_type": "code",
   "execution_count": 63,
   "outputs": [],
   "source": [
    "import math\n",
    "\n",
    "import pandas as pd"
   ],
   "metadata": {
    "collapsed": false
   }
  },
  {
   "cell_type": "code",
   "execution_count": 64,
   "outputs": [],
   "source": [
    "# Import data\n",
    "df = pd.read_csv(\"data/Life Expectancy Data.csv\")\n",
    "\n",
    "# drop null values in life expectancy column\n",
    "df.dropna(subset=['Life expectancy '])\n",
    "\n",
    "# split dataframe into countries that are developing/developed\n",
    "developed = df[df['Status'] == \"Developed\"]\n",
    "developing = df[df['Status'] == \"Developing\"]\n",
    "\n",
    "# get each country and put it into a list\n",
    "list_developed = []\n",
    "list_developing = []\n",
    "\n",
    "for country in developed['Country']:\n",
    "    if country not in list_developed:\n",
    "        list_developed.append(country)\n",
    "\n",
    "for country in developing['Country']:\n",
    "    if country not in list_developing:\n",
    "        list_developing.append(country)\n",
    "\n",
    "# calculate mean life expectancy of each country\n",
    "# first create dict that will be converted back to a dataframe later\n",
    "developed_mean = []\n",
    "\n",
    "# iterate through list\n",
    "for name in list_developed:\n",
    "    # separate dataframe we are working on\n",
    "    working_df = developed[(developed['Country'] == name)]\n",
    "\n",
    "    # calculate mean\n",
    "    # get the sum\n",
    "    le_sum = 0\n",
    "\n",
    "    for le in working_df['Life expectancy ']:\n",
    "        le_sum += le\n",
    "\n",
    "    # calculate mean\n",
    "    avg = le_sum / working_df.__len__()\n",
    "\n",
    "    # add mean to list\n",
    "    developed_mean.append(avg)\n",
    "\n",
    "# put data into a temp dictionary that will be converted into a dataframe\n",
    "temp_developed = {'Country': list_developed, 'Life Expectancy Average': developed_mean}\n",
    "df_developed = pd.DataFrame(data=temp_developed)\n",
    "\n",
    "\n",
    "developing_mean = []\n",
    "# iterate through list\n",
    "for name in list_developing:\n",
    "    # separate dataframe we are working on\n",
    "    working_df = developing[(developing['Country'] == name)]\n",
    "\n",
    "    # calculate mean\n",
    "    # get the sum\n",
    "    le_sum = 0\n",
    "\n",
    "    for le in working_df['Life expectancy ']:\n",
    "        le_sum += le\n",
    "\n",
    "    # calculate mean\n",
    "    avg = le_sum / working_df.__len__()\n",
    "\n",
    "    # add mean to list\n",
    "    developing_mean.append(avg)\n",
    "\n",
    "# put data into a temp dictionary that will be converted into a dataframe\n",
    "temp_developing = {'Country': list_developing, 'Life Expectancy Average': developing_mean}\n",
    "df_developing = pd.DataFrame(data=temp_developing)\n",
    "\n",
    "# need to drop rows without data\n",
    "df_developing = df_developing.dropna()"
   ],
   "metadata": {
    "collapsed": false
   }
  },
  {
   "cell_type": "code",
   "execution_count": 65,
   "outputs": [
    {
     "name": "stdout",
     "output_type": "stream",
     "text": [
      "Mean of developed countries:  79.19785156249999\n",
      "Mean of developing countries:  67.11146523178807\n"
     ]
    }
   ],
   "source": [
    "# now that we have our two data sets we can calculate the mean and the standard deviation\n",
    "\n",
    "# calculate mean of developed countries\n",
    "developed_acc = 0\n",
    "for avg in df_developed['Life Expectancy Average']:\n",
    "    developed_acc += avg\n",
    "\n",
    "mean_of_developed = developed_acc / df_developed.__len__()\n",
    "print(\"Mean of developed countries: \", mean_of_developed)\n",
    "# calculate mean of developing countries\n",
    "acc = 0\n",
    "for avg in df_developing['Life Expectancy Average']:\n",
    "    acc += avg\n",
    "\n",
    "mean_of_developing = acc / df_developing.__len__()\n",
    "print(\"Mean of developing countries: \", mean_of_developing)"
   ],
   "metadata": {
    "collapsed": false
   }
  },
  {
   "cell_type": "code",
   "execution_count": 66,
   "outputs": [
    {
     "name": "stdout",
     "output_type": "stream",
     "text": [
      "Standard Deviation of Developed Countries:  3.172254676081262\n",
      "Standard Deviation of Developing Countries:  8.604589759954798\n"
     ]
    }
   ],
   "source": [
    "# calculate standard deviation\n",
    "# calculate variance of developed dataframe\n",
    "developed_var_list = []\n",
    "\n",
    "for num in df_developed['Life Expectancy Average']:\n",
    "    developed_var_list.append(pow(num - mean_of_developed, 2))\n",
    "\n",
    "# calculate the variance\n",
    "deved_var = 0\n",
    "for num in developed_var_list:\n",
    "    deved_var += num\n",
    "\n",
    "deved_std = math.sqrt(deved_var / developed_var_list.__len__())\n",
    "print(\"Standard Deviation of Developed Countries: \", deved_std)\n",
    "\n",
    "# calculate variance of developing dataframe\n",
    "developing_var_list = []\n",
    "\n",
    "#calculate the variance\n",
    "for num in df_developing['Life Expectancy Average']:\n",
    "    developing_var_list.append(pow(num - mean_of_developing, 2))\n",
    "\n",
    "deving_var = 0\n",
    "for num in developing_var_list:\n",
    "    deving_var += num\n",
    "\n",
    "deving_std = math.sqrt(deving_var / developing_var_list.__len__())\n",
    "print(\"Standard Deviation of Developing Countries: \", deving_std)"
   ],
   "metadata": {
    "collapsed": false
   }
  },
  {
   "cell_type": "markdown",
   "source": [
    "Question 2:"
   ],
   "metadata": {
    "collapsed": false
   }
  },
  {
   "cell_type": "code",
   "execution_count": 67,
   "outputs": [],
   "source": [
    "# calc 1 std for both developing and developed countries\n",
    "deved_std_neg = mean_of_developed - deved_std\n",
    "deved_std_pos = mean_of_developed + deved_std\n",
    "\n",
    "deving_std_neg = mean_of_developing - deving_std\n",
    "deving_std_pos = mean_of_developing - deving_std\n",
    "\n",
    "\n",
    "# make a list to hold all the short, long, normal values\n",
    "deved_true = []\n",
    "for country in df_developed[\"Life Expectancy Average\"]:\n",
    "    if country < deved_std_neg:\n",
    "        deved_true.append('Short')\n",
    "    elif country > deved_std_pos:\n",
    "        deved_true.append('Long')\n",
    "    else:\n",
    "        deved_true.append('Normal')\n",
    "# now we transform it into a dataframe\n",
    "df_developed.insert(2, column=\"True Label\", value=deved_true)\n",
    "\n",
    "# do the same for the developing countries\n",
    "deving_true = []\n",
    "for country in df_developing[\"Life Expectancy Average\"]:\n",
    "    if country < deving_std_neg:\n",
    "        deving_true.append('Short')\n",
    "    elif country > deving_std_pos:\n",
    "        deving_true.append('Long')\n",
    "    else:\n",
    "        deving_true.append('Normal')\n",
    "\n",
    "df_developing.insert(2, column=\"True Label\", value=deving_true)\n",
    "\n"
   ],
   "metadata": {
    "collapsed": false
   }
  },
  {
   "cell_type": "code",
   "execution_count": 73,
   "outputs": [
    {
     "name": "stderr",
     "output_type": "stream",
     "text": [
      "C:\\Users\\Brandon\\AppData\\Local\\Temp\\ipykernel_21072\\2201081669.py:1: FutureWarning: The frame.append method is deprecated and will be removed from pandas in a future version. Use pandas.concat instead.\n",
      "  df_true = df_developed.append(df_developing)\n"
     ]
    },
    {
     "data": {
      "text/plain": "                                Country True Label\n0                             Australia     Normal\n1                               Austria     Normal\n2                               Belgium     Normal\n3                              Bulgaria      Short\n4                               Croatia     Normal\n..                                  ...        ...\n156  Venezuela (Bolivarian Republic of)       Long\n157                            Viet Nam       Long\n158                               Yemen       Long\n159                              Zambia      Short\n160                            Zimbabwe      Short\n\n[183 rows x 2 columns]",
      "text/html": "<div>\n<style scoped>\n    .dataframe tbody tr th:only-of-type {\n        vertical-align: middle;\n    }\n\n    .dataframe tbody tr th {\n        vertical-align: top;\n    }\n\n    .dataframe thead th {\n        text-align: right;\n    }\n</style>\n<table border=\"1\" class=\"dataframe\">\n  <thead>\n    <tr style=\"text-align: right;\">\n      <th></th>\n      <th>Country</th>\n      <th>True Label</th>\n    </tr>\n  </thead>\n  <tbody>\n    <tr>\n      <th>0</th>\n      <td>Australia</td>\n      <td>Normal</td>\n    </tr>\n    <tr>\n      <th>1</th>\n      <td>Austria</td>\n      <td>Normal</td>\n    </tr>\n    <tr>\n      <th>2</th>\n      <td>Belgium</td>\n      <td>Normal</td>\n    </tr>\n    <tr>\n      <th>3</th>\n      <td>Bulgaria</td>\n      <td>Short</td>\n    </tr>\n    <tr>\n      <th>4</th>\n      <td>Croatia</td>\n      <td>Normal</td>\n    </tr>\n    <tr>\n      <th>...</th>\n      <td>...</td>\n      <td>...</td>\n    </tr>\n    <tr>\n      <th>156</th>\n      <td>Venezuela (Bolivarian Republic of)</td>\n      <td>Long</td>\n    </tr>\n    <tr>\n      <th>157</th>\n      <td>Viet Nam</td>\n      <td>Long</td>\n    </tr>\n    <tr>\n      <th>158</th>\n      <td>Yemen</td>\n      <td>Long</td>\n    </tr>\n    <tr>\n      <th>159</th>\n      <td>Zambia</td>\n      <td>Short</td>\n    </tr>\n    <tr>\n      <th>160</th>\n      <td>Zimbabwe</td>\n      <td>Short</td>\n    </tr>\n  </tbody>\n</table>\n<p>183 rows × 2 columns</p>\n</div>"
     },
     "execution_count": 73,
     "metadata": {},
     "output_type": "execute_result"
    }
   ],
   "source": [
    "df_true = df_developed.append(df_developing)\n",
    "df_true.drop(columns='Life Expectancy Average')"
   ],
   "metadata": {
    "collapsed": false
   }
  }
 ],
 "metadata": {
  "kernelspec": {
   "display_name": "Python 3",
   "language": "python",
   "name": "python3"
  },
  "language_info": {
   "codemirror_mode": {
    "name": "ipython",
    "version": 2
   },
   "file_extension": ".py",
   "mimetype": "text/x-python",
   "name": "python",
   "nbconvert_exporter": "python",
   "pygments_lexer": "ipython2",
   "version": "2.7.6"
  }
 },
 "nbformat": 4,
 "nbformat_minor": 0
}
