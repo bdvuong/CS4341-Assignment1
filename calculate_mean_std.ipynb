{
 "cells": [
  {
   "cell_type": "markdown",
   "source": [
    "# <font face=arial> Assignment 1 Life Expectancy</font>\n",
    "## <font face=heltevica> In this Assignment, you'll be asked to finish several tasks on Life Expeectancy data and answer several questions. (You can access this data via this [link](https://www.kaggle.com/datasets/kumarajarshi/life-expectancy-who?resource=download)).</font>\n",
    "## <font face=heltevica> Please do <font color=red>NOT</font> use external libraries except for data loading</font>"
   ],
   "metadata": {
    "collapsed": false
   }
  },
  {
   "cell_type": "markdown",
   "source": [
    "## Task 1\n",
    "### <font face=heltevica>In this task, please calculate the mean ($\\mu$) and standard deviation ($\\sigma$) of life expectance for both \"Developing Countries\" and \"Developed Countries\".</font>"
   ],
   "metadata": {
    "collapsed": false
   }
  },
  {
   "cell_type": "code",
   "execution_count": 2,
   "outputs": [],
   "source": [
    "import math\n",
    "\n",
    "import pandas as pd"
   ],
   "metadata": {
    "collapsed": false
   }
  },
  {
   "cell_type": "code",
   "execution_count": 3,
   "outputs": [],
   "source": [
    "# Import data\n",
    "df = pd.read_csv(\"data/Life Expectancy Data.csv\")\n",
    "\n",
    "# drop null values in life expectancy column\n",
    "df.dropna(subset=['Life expectancy '])\n",
    "\n",
    "# split dataframe into countries that are developing/developed\n",
    "developed = df[df['Status'] == \"Developed\"]\n",
    "developing = df[df['Status'] == \"Developing\"]\n",
    "\n",
    "# get each country and put it into a list\n",
    "list_developed = []\n",
    "list_developing = []\n",
    "\n",
    "for country in developed['Country']:\n",
    "    if country not in list_developed:\n",
    "        list_developed.append(country)\n",
    "\n",
    "for country in developing['Country']:\n",
    "    if country not in list_developing:\n",
    "        list_developing.append(country)\n",
    "\n",
    "# calculate mean life expectancy of each country\n",
    "# first create dict that will be converted back to a dataframe later\n",
    "developed_mean = []\n",
    "\n",
    "# iterate through list\n",
    "for name in list_developed:\n",
    "    # separate dataframe we are working on\n",
    "    working_df = developed[(developed['Country'] == name)]\n",
    "\n",
    "    # calculate mean\n",
    "    # get the sum\n",
    "    le_sum = 0\n",
    "\n",
    "    for le in working_df['Life expectancy ']:\n",
    "        le_sum += le\n",
    "\n",
    "    # calculate mean\n",
    "    avg = le_sum / working_df.__len__()\n",
    "\n",
    "    # add mean to list\n",
    "    developed_mean.append(avg)\n",
    "\n",
    "# put data into a temp dictionary that will be converted into a dataframe\n",
    "temp_developed = {'Country': list_developed, 'Life Expectancy Average': developed_mean}\n",
    "df_developed = pd.DataFrame(data=temp_developed)\n",
    "\n",
    "\n",
    "developing_mean = []\n",
    "# iterate through list\n",
    "for name in list_developing:\n",
    "    # separate dataframe we are working on\n",
    "    working_df = developing[(developing['Country'] == name)]\n",
    "\n",
    "    # calculate mean\n",
    "    # get the sum\n",
    "    le_sum = 0\n",
    "\n",
    "    for le in working_df['Life expectancy ']:\n",
    "        le_sum += le\n",
    "\n",
    "    # calculate mean\n",
    "    avg = le_sum / working_df.__len__()\n",
    "\n",
    "    # add mean to list\n",
    "    developing_mean.append(avg)\n",
    "\n",
    "# put data into a temp dictionary that will be converted into a dataframe\n",
    "temp_developing = {'Country': list_developing, 'Life Expectancy Average': developing_mean}\n",
    "df_developing = pd.DataFrame(data=temp_developing)\n",
    "\n",
    "# need to drop rows without data\n",
    "df_developing = df_developing.dropna()"
   ],
   "metadata": {
    "collapsed": false
   }
  },
  {
   "cell_type": "code",
   "execution_count": 4,
   "outputs": [
    {
     "name": "stdout",
     "output_type": "stream",
     "text": [
      "Mean of developed countries:  79.19785156249999\n",
      "Mean of developing countries:  67.11146523178807\n"
     ]
    }
   ],
   "source": [
    "# now that we have our two data sets we can calculate the mean and the standard deviation\n",
    "\n",
    "# calculate mean of developed countries\n",
    "developed_acc = 0\n",
    "for avg in df_developed['Life Expectancy Average']:\n",
    "    developed_acc += avg\n",
    "\n",
    "mean_of_developed = developed_acc / df_developed.__len__()\n",
    "print(\"Mean of developed countries: \", mean_of_developed)\n",
    "# calculate mean of developing countries\n",
    "acc = 0\n",
    "for avg in df_developing['Life Expectancy Average']:\n",
    "    acc += avg\n",
    "\n",
    "mean_of_developing = acc / df_developing.__len__()\n",
    "print(\"Mean of developing countries: \", mean_of_developing)"
   ],
   "metadata": {
    "collapsed": false
   }
  },
  {
   "cell_type": "code",
   "execution_count": 5,
   "outputs": [
    {
     "name": "stdout",
     "output_type": "stream",
     "text": [
      "Standard Deviation of Developed Countries:  3.172254676081262\n",
      "Standard Deviation of Developing Countries:  8.604589759954798\n"
     ]
    }
   ],
   "source": [
    "# calculate standard deviation\n",
    "# calculate variance of developed dataframe\n",
    "developed_var_list = []\n",
    "\n",
    "for num in df_developed['Life Expectancy Average']:\n",
    "    developed_var_list.append(pow(num - mean_of_developed, 2))\n",
    "\n",
    "# calculate the variance\n",
    "deved_var = 0\n",
    "for num in developed_var_list:\n",
    "    deved_var += num\n",
    "\n",
    "deved_std = math.sqrt(deved_var / developed_var_list.__len__())\n",
    "print(\"Standard Deviation of Developed Countries: \", deved_std)\n",
    "\n",
    "# calculate variance of developing dataframe\n",
    "developing_var_list = []\n",
    "\n",
    "#calculate the variance\n",
    "for num in df_developing['Life Expectancy Average']:\n",
    "    developing_var_list.append(pow(num - mean_of_developing, 2))\n",
    "\n",
    "deving_var = 0\n",
    "for num in developing_var_list:\n",
    "    deving_var += num\n",
    "\n",
    "deving_std = math.sqrt(deving_var / developing_var_list.__len__())\n",
    "print(\"Standard Deviation of Developing Countries: \", deving_std)"
   ],
   "metadata": {
    "collapsed": false
   }
  },
  {
   "cell_type": "markdown",
   "source": [
    "## Task 2\n",
    "### <font face=heltevica>In this task, you will use the results you get from above to label the data. if the target country's life expectancy is smaller than µ - σ, label this country as \"Short\";  if the target country's life expectancy is larger than µ + σ, label this country as \"Long\"; otherwise, label this country as \"Normal\". Please print the results in a txt file.</font>"
   ],
   "metadata": {
    "collapsed": false
   }
  },
  {
   "cell_type": "code",
   "execution_count": 6,
   "outputs": [],
   "source": [
    "# calc 1 std for both developing and developed countries\n",
    "deved_std_neg = mean_of_developed - deved_std\n",
    "deved_std_pos = mean_of_developed + deved_std\n",
    "\n",
    "deving_std_neg = mean_of_developing - deving_std\n",
    "deving_std_pos = mean_of_developing - deving_std\n",
    "\n",
    "\n",
    "# make a list to hold all the short, long, normal values\n",
    "deved_true = []\n",
    "for country in df_developed[\"Life Expectancy Average\"]:\n",
    "    if country < deved_std_neg:\n",
    "        deved_true.append('Short')\n",
    "    elif country > deved_std_pos:\n",
    "        deved_true.append('Long')\n",
    "    else:\n",
    "        deved_true.append('Normal')\n",
    "# now we transform it into a dataframe\n",
    "df_developed.insert(2, column=\"True Label\", value=deved_true)\n",
    "\n",
    "# do the same for the developing countries\n",
    "deving_true = []\n",
    "for country in df_developing[\"Life Expectancy Average\"]:\n",
    "    if country < deving_std_neg:\n",
    "        deving_true.append('Short')\n",
    "    elif country > deving_std_pos:\n",
    "        deving_true.append('Long')\n",
    "    else:\n",
    "        deving_true.append('Normal')\n",
    "\n",
    "df_developing.insert(2, column=\"True Label\", value=deving_true)\n",
    "\n"
   ],
   "metadata": {
    "collapsed": false
   }
  },
  {
   "cell_type": "code",
   "execution_count": 7,
   "outputs": [
    {
     "name": "stderr",
     "output_type": "stream",
     "text": [
      "C:\\Users\\Brandon\\AppData\\Local\\Temp\\ipykernel_17112\\892166026.py:2: FutureWarning: The frame.append method is deprecated and will be removed from pandas in a future version. Use pandas.concat instead.\n",
      "  df_true = df_developed.append(df_developing)\n"
     ]
    },
    {
     "data": {
      "text/plain": "                                Country True Label\n0                             Australia     Normal\n1                               Austria     Normal\n2                               Belgium     Normal\n3                              Bulgaria      Short\n4                               Croatia     Normal\n..                                  ...        ...\n156  Venezuela (Bolivarian Republic of)       Long\n157                            Viet Nam       Long\n158                               Yemen       Long\n159                              Zambia      Short\n160                            Zimbabwe      Short\n\n[183 rows x 2 columns]",
      "text/html": "<div>\n<style scoped>\n    .dataframe tbody tr th:only-of-type {\n        vertical-align: middle;\n    }\n\n    .dataframe tbody tr th {\n        vertical-align: top;\n    }\n\n    .dataframe thead th {\n        text-align: right;\n    }\n</style>\n<table border=\"1\" class=\"dataframe\">\n  <thead>\n    <tr style=\"text-align: right;\">\n      <th></th>\n      <th>Country</th>\n      <th>True Label</th>\n    </tr>\n  </thead>\n  <tbody>\n    <tr>\n      <th>0</th>\n      <td>Australia</td>\n      <td>Normal</td>\n    </tr>\n    <tr>\n      <th>1</th>\n      <td>Austria</td>\n      <td>Normal</td>\n    </tr>\n    <tr>\n      <th>2</th>\n      <td>Belgium</td>\n      <td>Normal</td>\n    </tr>\n    <tr>\n      <th>3</th>\n      <td>Bulgaria</td>\n      <td>Short</td>\n    </tr>\n    <tr>\n      <th>4</th>\n      <td>Croatia</td>\n      <td>Normal</td>\n    </tr>\n    <tr>\n      <th>...</th>\n      <td>...</td>\n      <td>...</td>\n    </tr>\n    <tr>\n      <th>156</th>\n      <td>Venezuela (Bolivarian Republic of)</td>\n      <td>Long</td>\n    </tr>\n    <tr>\n      <th>157</th>\n      <td>Viet Nam</td>\n      <td>Long</td>\n    </tr>\n    <tr>\n      <th>158</th>\n      <td>Yemen</td>\n      <td>Long</td>\n    </tr>\n    <tr>\n      <th>159</th>\n      <td>Zambia</td>\n      <td>Short</td>\n    </tr>\n    <tr>\n      <th>160</th>\n      <td>Zimbabwe</td>\n      <td>Short</td>\n    </tr>\n  </tbody>\n</table>\n<p>183 rows × 2 columns</p>\n</div>"
     },
     "execution_count": 7,
     "metadata": {},
     "output_type": "execute_result"
    }
   ],
   "source": [
    "# combine the two into one whole dataframe for exporting\n",
    "df_true = df_developed.append(df_developing)\n",
    "df_true.drop(columns='Life Expectancy Average')"
   ],
   "metadata": {
    "collapsed": false
   }
  },
  {
   "cell_type": "markdown",
   "source": [
    "# Task 4\n",
    "## <font face=heltevica>Here are some results generated by a random machine learning model, can you give the precision, recall and F1 score based the labels(Groundtruth) you created in Task 2?</font>"
   ],
   "metadata": {
    "collapsed": false
   }
  },
  {
   "cell_type": "code",
   "execution_count": 17,
   "outputs": [
    {
     "data": {
      "text/plain": "                                Country  Life Expectancy Average True Label\n6                               Czechia                 76.76875     Normal\n7                               Denmark                 79.25625     Normal\n10                              Iceland                 82.44375       Long\n16                           Luxembourg                 80.78125     Normal\n17                                Malta                 80.36250     Normal\n3                                Angola                 49.01875      Short\n5                             Argentina                 75.15625       Long\n7                            Azerbaijan                 70.73125       Long\n13                               Belize                 69.26875       Long\n15                               Bhutan                 66.16250       Long\n22                              Burundi                 55.53750      Short\n32                             Colombia                 73.28750       Long\n33                              Comoros                 61.58125       Long\n37                                 Cuba                 77.97500       Long\n48                              Estonia                 74.94375       Long\n49                             Ethiopia                 59.11250       Long\n51                              Finland                 80.71250       Long\n52                               France                 82.21875       Long\n54                               Gambia                 59.46250       Long\n62                               Guyana                 65.63750       Long\n84                             Malaysia                 73.75625       Long\n86                                 Mali                 54.93750      Short\n90                               Mexico                 75.71875       Long\n91     Micronesia (Federated States of)                 68.20000       Long\n93                             Mongolia                 65.88750       Long\n98                              Namibia                 60.40000       Long\n103                             Nigeria                 51.35625      Short\n105                                Oman                 74.84375       Long\n109                    Papua New Guinea                 61.68125       Long\n114                   Republic of Korea                 80.48750       Long\n117                              Rwanda                 59.31250       Long\n130                             Somalia                 53.31875      Short\n135                            Suriname                 70.08125       Long\n137                Syrian Arab Republic                 70.85000       Long\n142                                Togo                 56.66250      Short\n145                             Tunisia                 74.35625       Long\n146                              Turkey                 73.91250       Long\n153                             Uruguay                 76.07500       Long\n156  Venezuela (Bolivarian Republic of)                 73.38750       Long\n157                            Viet Nam                 74.77500       Long\n158                               Yemen                 63.86250       Long\n159                              Zambia                 53.90625      Short",
      "text/html": "<div>\n<style scoped>\n    .dataframe tbody tr th:only-of-type {\n        vertical-align: middle;\n    }\n\n    .dataframe tbody tr th {\n        vertical-align: top;\n    }\n\n    .dataframe thead th {\n        text-align: right;\n    }\n</style>\n<table border=\"1\" class=\"dataframe\">\n  <thead>\n    <tr style=\"text-align: right;\">\n      <th></th>\n      <th>Country</th>\n      <th>Life Expectancy Average</th>\n      <th>True Label</th>\n    </tr>\n  </thead>\n  <tbody>\n    <tr>\n      <th>6</th>\n      <td>Czechia</td>\n      <td>76.76875</td>\n      <td>Normal</td>\n    </tr>\n    <tr>\n      <th>7</th>\n      <td>Denmark</td>\n      <td>79.25625</td>\n      <td>Normal</td>\n    </tr>\n    <tr>\n      <th>10</th>\n      <td>Iceland</td>\n      <td>82.44375</td>\n      <td>Long</td>\n    </tr>\n    <tr>\n      <th>16</th>\n      <td>Luxembourg</td>\n      <td>80.78125</td>\n      <td>Normal</td>\n    </tr>\n    <tr>\n      <th>17</th>\n      <td>Malta</td>\n      <td>80.36250</td>\n      <td>Normal</td>\n    </tr>\n    <tr>\n      <th>3</th>\n      <td>Angola</td>\n      <td>49.01875</td>\n      <td>Short</td>\n    </tr>\n    <tr>\n      <th>5</th>\n      <td>Argentina</td>\n      <td>75.15625</td>\n      <td>Long</td>\n    </tr>\n    <tr>\n      <th>7</th>\n      <td>Azerbaijan</td>\n      <td>70.73125</td>\n      <td>Long</td>\n    </tr>\n    <tr>\n      <th>13</th>\n      <td>Belize</td>\n      <td>69.26875</td>\n      <td>Long</td>\n    </tr>\n    <tr>\n      <th>15</th>\n      <td>Bhutan</td>\n      <td>66.16250</td>\n      <td>Long</td>\n    </tr>\n    <tr>\n      <th>22</th>\n      <td>Burundi</td>\n      <td>55.53750</td>\n      <td>Short</td>\n    </tr>\n    <tr>\n      <th>32</th>\n      <td>Colombia</td>\n      <td>73.28750</td>\n      <td>Long</td>\n    </tr>\n    <tr>\n      <th>33</th>\n      <td>Comoros</td>\n      <td>61.58125</td>\n      <td>Long</td>\n    </tr>\n    <tr>\n      <th>37</th>\n      <td>Cuba</td>\n      <td>77.97500</td>\n      <td>Long</td>\n    </tr>\n    <tr>\n      <th>48</th>\n      <td>Estonia</td>\n      <td>74.94375</td>\n      <td>Long</td>\n    </tr>\n    <tr>\n      <th>49</th>\n      <td>Ethiopia</td>\n      <td>59.11250</td>\n      <td>Long</td>\n    </tr>\n    <tr>\n      <th>51</th>\n      <td>Finland</td>\n      <td>80.71250</td>\n      <td>Long</td>\n    </tr>\n    <tr>\n      <th>52</th>\n      <td>France</td>\n      <td>82.21875</td>\n      <td>Long</td>\n    </tr>\n    <tr>\n      <th>54</th>\n      <td>Gambia</td>\n      <td>59.46250</td>\n      <td>Long</td>\n    </tr>\n    <tr>\n      <th>62</th>\n      <td>Guyana</td>\n      <td>65.63750</td>\n      <td>Long</td>\n    </tr>\n    <tr>\n      <th>84</th>\n      <td>Malaysia</td>\n      <td>73.75625</td>\n      <td>Long</td>\n    </tr>\n    <tr>\n      <th>86</th>\n      <td>Mali</td>\n      <td>54.93750</td>\n      <td>Short</td>\n    </tr>\n    <tr>\n      <th>90</th>\n      <td>Mexico</td>\n      <td>75.71875</td>\n      <td>Long</td>\n    </tr>\n    <tr>\n      <th>91</th>\n      <td>Micronesia (Federated States of)</td>\n      <td>68.20000</td>\n      <td>Long</td>\n    </tr>\n    <tr>\n      <th>93</th>\n      <td>Mongolia</td>\n      <td>65.88750</td>\n      <td>Long</td>\n    </tr>\n    <tr>\n      <th>98</th>\n      <td>Namibia</td>\n      <td>60.40000</td>\n      <td>Long</td>\n    </tr>\n    <tr>\n      <th>103</th>\n      <td>Nigeria</td>\n      <td>51.35625</td>\n      <td>Short</td>\n    </tr>\n    <tr>\n      <th>105</th>\n      <td>Oman</td>\n      <td>74.84375</td>\n      <td>Long</td>\n    </tr>\n    <tr>\n      <th>109</th>\n      <td>Papua New Guinea</td>\n      <td>61.68125</td>\n      <td>Long</td>\n    </tr>\n    <tr>\n      <th>114</th>\n      <td>Republic of Korea</td>\n      <td>80.48750</td>\n      <td>Long</td>\n    </tr>\n    <tr>\n      <th>117</th>\n      <td>Rwanda</td>\n      <td>59.31250</td>\n      <td>Long</td>\n    </tr>\n    <tr>\n      <th>130</th>\n      <td>Somalia</td>\n      <td>53.31875</td>\n      <td>Short</td>\n    </tr>\n    <tr>\n      <th>135</th>\n      <td>Suriname</td>\n      <td>70.08125</td>\n      <td>Long</td>\n    </tr>\n    <tr>\n      <th>137</th>\n      <td>Syrian Arab Republic</td>\n      <td>70.85000</td>\n      <td>Long</td>\n    </tr>\n    <tr>\n      <th>142</th>\n      <td>Togo</td>\n      <td>56.66250</td>\n      <td>Short</td>\n    </tr>\n    <tr>\n      <th>145</th>\n      <td>Tunisia</td>\n      <td>74.35625</td>\n      <td>Long</td>\n    </tr>\n    <tr>\n      <th>146</th>\n      <td>Turkey</td>\n      <td>73.91250</td>\n      <td>Long</td>\n    </tr>\n    <tr>\n      <th>153</th>\n      <td>Uruguay</td>\n      <td>76.07500</td>\n      <td>Long</td>\n    </tr>\n    <tr>\n      <th>156</th>\n      <td>Venezuela (Bolivarian Republic of)</td>\n      <td>73.38750</td>\n      <td>Long</td>\n    </tr>\n    <tr>\n      <th>157</th>\n      <td>Viet Nam</td>\n      <td>74.77500</td>\n      <td>Long</td>\n    </tr>\n    <tr>\n      <th>158</th>\n      <td>Yemen</td>\n      <td>63.86250</td>\n      <td>Long</td>\n    </tr>\n    <tr>\n      <th>159</th>\n      <td>Zambia</td>\n      <td>53.90625</td>\n      <td>Short</td>\n    </tr>\n  </tbody>\n</table>\n</div>"
     },
     "execution_count": 17,
     "metadata": {},
     "output_type": "execute_result"
    }
   ],
   "source": [
    "# read the prediction CSV\n",
    "sample_df = pd.read_csv('data/sample.csv', index_col=0)\n",
    "\n",
    "\n",
    "# put all the predicted countries into a list\n",
    "sample_list = []\n",
    "for country in sample_df['Country']:\n",
    "    sample_list.append(country)\n",
    "\n",
    "# only concerned about the prediction, drop all other rows except country\n",
    "sample_df = sample_df[['Country','Prediction']]\n",
    "\n",
    "df_true[df_true['Country'].isin(sample_list)]"
   ],
   "metadata": {
    "collapsed": false
   }
  },
  {
   "cell_type": "code",
   "execution_count": 28,
   "outputs": [
    {
     "name": "stdout",
     "output_type": "stream",
     "text": [
      "    Country  Life Expectancy Average True Label\n",
      "105    Oman                 74.84375       Long\n",
      "    Country  Life Expectancy Average True Label\n",
      "142    Togo                  56.6625      Short\n",
      "    Country  Life Expectancy Average True Label\n",
      "146  Turkey                  73.9125       Long\n",
      "    Country  Life Expectancy Average True Label\n",
      "51  Finland                  80.7125       Long\n",
      "    Country  Life Expectancy Average True Label\n",
      "22  Burundi                  55.5375      Short\n",
      "   Country  Life Expectancy Average True Label\n",
      "90  Mexico                 75.71875       Long\n",
      "     Country  Life Expectancy Average True Label\n",
      "32  Colombia                  73.2875       Long\n",
      "    Country  Life Expectancy Average True Label\n",
      "105    Oman                 74.84375       Long\n",
      "     Country  Life Expectancy Average True Label\n",
      "145  Tunisia                 74.35625       Long\n",
      "     Country  Life Expectancy Average True Label\n",
      "93  Mongolia                  65.8875       Long\n",
      "                  Country  Life Expectancy Average True Label\n",
      "137  Syrian Arab Republic                    70.85       Long\n",
      "     Country  Life Expectancy Average True Label\n",
      "130  Somalia                 53.31875      Short\n",
      "     Country  Life Expectancy Average True Label\n",
      "153  Uruguay                   76.075       Long\n",
      "    Country  Life Expectancy Average True Label\n",
      "10  Iceland                 82.44375       Long\n",
      "   Country  Life Expectancy Average True Label\n",
      "7  Denmark                 79.25625     Normal\n",
      "    Country  Life Expectancy Average True Label\n",
      "142    Togo                  56.6625      Short\n",
      "    Country  Life Expectancy Average True Label\n",
      "51  Finland                  80.7125       Long\n",
      "      Country  Life Expectancy Average True Label\n",
      "157  Viet Nam                   74.775       Long\n",
      "    Country  Life Expectancy Average True Label\n",
      "33  Comoros                 61.58125       Long\n",
      "    Country  Life Expectancy Average True Label\n",
      "158   Yemen                  63.8625       Long\n",
      "  Country  Life Expectancy Average True Label\n",
      "3  Angola                 49.01875      Short\n",
      "     Country  Life Expectancy Average True Label\n",
      "49  Ethiopia                  59.1125       Long\n",
      "    Country  Life Expectancy Average True Label\n",
      "10  Iceland                 82.44375       Long\n",
      "                                Country  Life Expectancy Average True Label\n",
      "156  Venezuela (Bolivarian Republic of)                  73.3875       Long\n",
      "Empty DataFrame\n",
      "Columns: [Country, Life Expectancy Average, True Label]\n",
      "Index: []\n",
      "    Country  Life Expectancy Average True Label\n",
      "142    Togo                  56.6625      Short\n",
      "              Country  Life Expectancy Average True Label\n",
      "109  Papua New Guinea                 61.68125       Long\n",
      "       Country  Life Expectancy Average True Label\n",
      "16  Luxembourg                 80.78125     Normal\n",
      "   Country  Life Expectancy Average True Label\n",
      "37    Cuba                   77.975       Long\n",
      "     Country  Life Expectancy Average True Label\n",
      "5  Argentina                 75.15625       Long\n",
      "    Country  Life Expectancy Average True Label\n",
      "117  Rwanda                  59.3125       Long\n",
      "   Country  Life Expectancy Average True Label\n",
      "54  Gambia                  59.4625       Long\n",
      "     Country  Life Expectancy Average True Label\n",
      "103  Nigeria                 51.35625      Short\n",
      "               Country  Life Expectancy Average True Label\n",
      "114  Republic of Korea                  80.4875       Long\n",
      "   Country  Life Expectancy Average True Label\n",
      "17   Malta                  80.3625     Normal\n",
      "     Country  Life Expectancy Average True Label\n",
      "49  Ethiopia                  59.1125       Long\n",
      "   Country  Life Expectancy Average True Label\n",
      "86    Mali                  54.9375      Short\n",
      "   Country  Life Expectancy Average True Label\n",
      "52  France                 82.21875       Long\n",
      "    Country  Life Expectancy Average True Label\n",
      "48  Estonia                 74.94375       Long\n",
      "     Country  Life Expectancy Average True Label\n",
      "84  Malaysia                 73.75625       Long\n",
      "      Country  Life Expectancy Average True Label\n",
      "135  Suriname                 70.08125       Long\n",
      "   Country  Life Expectancy Average True Label\n",
      "6  Czechia                 76.76875     Normal\n",
      "                             Country  Life Expectancy Average True Label\n",
      "91  Micronesia (Federated States of)                     68.2       Long\n",
      "   Country  Life Expectancy Average True Label\n",
      "15  Bhutan                  66.1625       Long\n",
      "    Country  Life Expectancy Average True Label\n",
      "10  Iceland                 82.44375       Long\n",
      "    Country  Life Expectancy Average True Label\n",
      "98  Namibia                     60.4       Long\n",
      "   Country  Life Expectancy Average True Label\n",
      "13  Belize                 69.26875       Long\n",
      "      Country  Life Expectancy Average True Label\n",
      "7  Azerbaijan                 70.73125       Long\n",
      "   Country  Life Expectancy Average True Label\n",
      "62  Guyana                  65.6375       Long\n",
      "    Country  Life Expectancy Average True Label\n",
      "159  Zambia                 53.90625      Short\n"
     ]
    }
   ],
   "source": [
    "# confusion matrix\n",
    "tp = 0\n",
    "tn = 0\n",
    "fp = 0\n",
    "fn = 0\n",
    "\n",
    "# iterate through each row within the true label dataframe and each predicted\n",
    "for (country, pred_label) in zip(sample_list, sample_df['Prediction']):\n",
    "    row = df_true.loc[df_true['Country'] == country]\n",
    "    # check if the prediction label is same as the true label\n",
    "    # assuming that if it predicts correctly it will be true positive,\n",
    "    # ASK HOW TO SHOW THIS BECAUSE THERE ARE 3 LABELS, WHICH ONE CORRESPONDS TO TP, TN, FP, FN\n",
    "    if row['True Label'] == pred_label:\n"
   ],
   "metadata": {
    "collapsed": false
   }
  }
 ],
 "metadata": {
  "kernelspec": {
   "display_name": "Python 3",
   "language": "python",
   "name": "python3"
  },
  "language_info": {
   "codemirror_mode": {
    "name": "ipython",
    "version": 2
   },
   "file_extension": ".py",
   "mimetype": "text/x-python",
   "name": "python",
   "nbconvert_exporter": "python",
   "pygments_lexer": "ipython2",
   "version": "2.7.6"
  }
 },
 "nbformat": 4,
 "nbformat_minor": 0
}
