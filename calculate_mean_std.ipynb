{
 "cells": [
  {
   "cell_type": "code",
   "execution_count": 157,
   "outputs": [],
   "source": [
    "import math\n",
    "\n",
    "import pandas as pd"
   ],
   "metadata": {
    "collapsed": false
   }
  },
  {
   "cell_type": "code",
   "execution_count": 158,
   "outputs": [],
   "source": [
    "# Import data\n",
    "df = pd.read_csv(\"data/Life Expectancy Data.csv\")\n",
    "\n",
    "# drop null values in life expectancy column\n",
    "df.dropna(subset=['Life expectancy '])\n",
    "\n",
    "# split dataframe into countries that are developing/developed\n",
    "developed = df[df['Status'] == \"Developed\"]\n",
    "developing = df[df['Status'] == \"Developing\"]\n",
    "\n",
    "# get each country and put it into a list\n",
    "list_developed = []\n",
    "list_developing = []\n",
    "\n",
    "for country in developed['Country']:\n",
    "    if country not in list_developed:\n",
    "        list_developed.append(country)\n",
    "\n",
    "for country in developing['Country']:\n",
    "    if country not in list_developing:\n",
    "        list_developing.append(country)\n",
    "\n",
    "# calculate mean life expectancy of each country\n",
    "# first create dict that will be converted back to a dataframe later\n",
    "developed_mean = []\n",
    "\n",
    "# iterate through list\n",
    "for name in list_developed:\n",
    "    # separate dataframe we are working on\n",
    "    working_df = developed[(developed['Country'] == name)]\n",
    "\n",
    "    # calculate mean\n",
    "    # get the sum\n",
    "    le_sum = 0\n",
    "\n",
    "    for le in working_df['Life expectancy ']:\n",
    "        le_sum += le\n",
    "\n",
    "    # calculate mean\n",
    "    avg = le_sum / working_df.__len__()\n",
    "\n",
    "    # add mean to list\n",
    "    developed_mean.append(avg)\n",
    "\n",
    "# put data into a temp dictionary that will be converted into a dataframe\n",
    "temp_developed = {'Country': list_developed, 'Life Expectancy Average': developed_mean}\n",
    "df_developed = pd.DataFrame(data=temp_developed)\n",
    "\n",
    "\n",
    "developing_mean = []\n",
    "# iterate through list\n",
    "for name in list_developing:\n",
    "    # separate dataframe we are working on\n",
    "    working_df = developing[(developing['Country'] == name)]\n",
    "\n",
    "    # calculate mean\n",
    "    # get the sum\n",
    "    le_sum = 0\n",
    "\n",
    "    for le in working_df['Life expectancy ']:\n",
    "        le_sum += le\n",
    "\n",
    "    # calculate mean\n",
    "    avg = le_sum / working_df.__len__()\n",
    "\n",
    "    # add mean to list\n",
    "    developing_mean.append(avg)\n",
    "\n",
    "# put data into a temp dictionary that will be converted into a dataframe\n",
    "temp_developing = {'Country': list_developing, 'Life Expectancy Average': developing_mean}\n",
    "df_developing = pd.DataFrame(data=temp_developing)\n",
    "\n",
    "# need to drop rows without data\n",
    "df_developing = df_developing.dropna()"
   ],
   "metadata": {
    "collapsed": false
   }
  },
  {
   "cell_type": "code",
   "execution_count": 159,
   "outputs": [
    {
     "name": "stdout",
     "output_type": "stream",
     "text": [
      "Mean of developed countries:  79.19785156249999\n",
      "Mean of developing countries:  67.11146523178807\n"
     ]
    }
   ],
   "source": [
    "# now that we have our two data sets we can calculate the mean and the standard deviation\n",
    "\n",
    "# calculate mean of developed countries\n",
    "developed_acc = 0\n",
    "for avg in df_developed['Life Expectancy Average']:\n",
    "    developed_acc += avg\n",
    "\n",
    "mean_of_developed = developed_acc / df_developed.__len__()\n",
    "print(\"Mean of developed countries: \", mean_of_developed)\n",
    "# calculate mean of developing countries\n",
    "acc = 0\n",
    "for avg in df_developing['Life Expectancy Average']:\n",
    "    acc += avg\n",
    "\n",
    "mean_of_developing = acc / df_developing.__len__()\n",
    "print(\"Mean of developing countries: \", mean_of_developing)"
   ],
   "metadata": {
    "collapsed": false
   }
  },
  {
   "cell_type": "code",
   "execution_count": 168,
   "outputs": [
    {
     "name": "stdout",
     "output_type": "stream",
     "text": [
      "Standard Deviation of Developed Countries:  3.172254676081262\n",
      "Standard Deviation of Developing Countries:  8.604589759954798\n"
     ]
    },
    {
     "data": {
      "text/plain": "                                Country  Life Expectancy Average\n0                           Afghanistan                 58.19375\n1                               Albania                 75.15625\n2                               Algeria                 73.61875\n3                                Angola                 49.01875\n4                   Antigua and Barbuda                 75.05625\n..                                  ...                      ...\n156  Venezuela (Bolivarian Republic of)                 73.38750\n157                            Viet Nam                 74.77500\n158                               Yemen                 63.86250\n159                              Zambia                 53.90625\n160                            Zimbabwe                 50.48750\n\n[151 rows x 2 columns]",
      "text/html": "<div>\n<style scoped>\n    .dataframe tbody tr th:only-of-type {\n        vertical-align: middle;\n    }\n\n    .dataframe tbody tr th {\n        vertical-align: top;\n    }\n\n    .dataframe thead th {\n        text-align: right;\n    }\n</style>\n<table border=\"1\" class=\"dataframe\">\n  <thead>\n    <tr style=\"text-align: right;\">\n      <th></th>\n      <th>Country</th>\n      <th>Life Expectancy Average</th>\n    </tr>\n  </thead>\n  <tbody>\n    <tr>\n      <th>0</th>\n      <td>Afghanistan</td>\n      <td>58.19375</td>\n    </tr>\n    <tr>\n      <th>1</th>\n      <td>Albania</td>\n      <td>75.15625</td>\n    </tr>\n    <tr>\n      <th>2</th>\n      <td>Algeria</td>\n      <td>73.61875</td>\n    </tr>\n    <tr>\n      <th>3</th>\n      <td>Angola</td>\n      <td>49.01875</td>\n    </tr>\n    <tr>\n      <th>4</th>\n      <td>Antigua and Barbuda</td>\n      <td>75.05625</td>\n    </tr>\n    <tr>\n      <th>...</th>\n      <td>...</td>\n      <td>...</td>\n    </tr>\n    <tr>\n      <th>156</th>\n      <td>Venezuela (Bolivarian Republic of)</td>\n      <td>73.38750</td>\n    </tr>\n    <tr>\n      <th>157</th>\n      <td>Viet Nam</td>\n      <td>74.77500</td>\n    </tr>\n    <tr>\n      <th>158</th>\n      <td>Yemen</td>\n      <td>63.86250</td>\n    </tr>\n    <tr>\n      <th>159</th>\n      <td>Zambia</td>\n      <td>53.90625</td>\n    </tr>\n    <tr>\n      <th>160</th>\n      <td>Zimbabwe</td>\n      <td>50.48750</td>\n    </tr>\n  </tbody>\n</table>\n<p>151 rows × 2 columns</p>\n</div>"
     },
     "execution_count": 168,
     "metadata": {},
     "output_type": "execute_result"
    }
   ],
   "source": [
    "# calculate standard deviation\n",
    "# calculate variance of developed dataframe\n",
    "developed_var_list = []\n",
    "\n",
    "for num in df_developed['Life Expectancy Average']:\n",
    "    developed_var_list.append(pow(num - mean_of_developed, 2))\n",
    "\n",
    "# calculate the variance\n",
    "deved_var = 0\n",
    "for num in developed_var_list:\n",
    "    deved_var += num\n",
    "\n",
    "print(\"Standard Deviation of Developed Countries: \", math.sqrt(deved_var / developed_var_list.__len__()))\n",
    "\n",
    "# calculate variance of developing dataframe\n",
    "developing_var_list = []\n",
    "\n",
    "#calculate the variance\n",
    "for num in df_developing['Life Expectancy Average']:\n",
    "    developing_var_list.append(pow(num - mean_of_developing, 2))\n",
    "\n",
    "deving_var = 0\n",
    "for num in developing_var_list:\n",
    "    deving_var += num\n",
    "\n",
    "print(\"Standard Deviation of Developing Countries: \", math.sqrt(deving_var / developing_var_list.__len__()))"
   ],
   "metadata": {
    "collapsed": false
   }
  },
  {
   "cell_type": "markdown",
   "source": [
    "Question 2:"
   ],
   "metadata": {
    "collapsed": false
   }
  },
  {
   "cell_type": "code",
   "execution_count": null,
   "outputs": [],
   "source": [],
   "metadata": {
    "collapsed": false
   }
  }
 ],
 "metadata": {
  "kernelspec": {
   "display_name": "Python 3",
   "language": "python",
   "name": "python3"
  },
  "language_info": {
   "codemirror_mode": {
    "name": "ipython",
    "version": 2
   },
   "file_extension": ".py",
   "mimetype": "text/x-python",
   "name": "python",
   "nbconvert_exporter": "python",
   "pygments_lexer": "ipython2",
   "version": "2.7.6"
  }
 },
 "nbformat": 4,
 "nbformat_minor": 0
}
